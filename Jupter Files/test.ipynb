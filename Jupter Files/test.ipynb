{
 "cells": [
  {
   "cell_type": "code",
   "execution_count": 1,
   "metadata": {
    "tags": []
   },
   "outputs": [],
   "source": [
    "with open(r\"D:\\C\\Linkedin Project\\linkedin.html\", 'r',encoding=\"utf8\") as f:\n",
    "    contents = f.read()"
   ]
  },
  {
   "cell_type": "code",
   "execution_count": 2,
   "metadata": {},
   "outputs": [],
   "source": [
    "import pandas as pd\n",
    "import requests\n",
    "from bs4 import BeautifulSoup\n",
    "links = []"
   ]
  },
  {
   "cell_type": "code",
   "execution_count": 3,
   "metadata": {},
   "outputs": [],
   "source": [
    "soup = BeautifulSoup(contents, 'html.parser')"
   ]
  },
  {
   "cell_type": "code",
   "execution_count": null,
   "metadata": {},
   "outputs": [],
   "source": [
    "import pandas as pd\n",
    "import requests\n",
    "from bs4 import BeautifulSoup\n",
    "links = []\n",
    "\n",
    "response = requests.get('view-source:https://in.linkedin.com/jobs/data-scientist-jobs?currentJobId=3809364262&position=2&pageNum=0')\n",
    "\n",
    "if response.status_code == 200:\n",
    "\n",
    "    soup = BeautifulSoup(response.content, 'html.parser')\n",
    "    # links.append(soup.find_all('a', attrs = {'class':\"base-card__full-link absolute top-0 right-0 bottom-0 left-0 p-0 z-[2]\"}))\n",
    "\n",
    "\n"
   ]
  },
  {
   "cell_type": "code",
   "execution_count": 4,
   "metadata": {},
   "outputs": [],
   "source": [
    "soup1 =  soup.find_all('a', attrs = {'class':\"base-card__full-link absolute top-0 right-0 bottom-0 left-0 p-0 z-[2]\",'href':True})"
   ]
  },
  {
   "cell_type": "code",
   "execution_count": 5,
   "metadata": {},
   "outputs": [],
   "source": [
    "links = []"
   ]
  },
  {
   "cell_type": "code",
   "execution_count": 6,
   "metadata": {},
   "outputs": [],
   "source": [
    "for tag in soup1:\n",
    "    links.append(tag['href'])"
   ]
  },
  {
   "cell_type": "code",
   "execution_count": 7,
   "metadata": {},
   "outputs": [
    {
     "data": {
      "text/plain": [
       "714"
      ]
     },
     "execution_count": 7,
     "metadata": {},
     "output_type": "execute_result"
    }
   ],
   "source": [
    "len(links)"
   ]
  },
  {
   "cell_type": "code",
   "execution_count": 8,
   "metadata": {
    "scrolled": true
   },
   "outputs": [
    {
     "data": {
      "text/plain": [
       "['https://in.linkedin.com/jobs/view/data-science-at-hrness-ai-3818049337?refId=jqDph%2FqDEcFFlZJjuTf48w%3D%3D&trackingId=RV4b6t7xWUL3JQTzuWwV6Q%3D%3D&position=1&pageNum=0&trk=public_jobs_jserp-result_search-card',\n",
       " 'https://in.linkedin.com/jobs/view/data-scientist-at-fusemachines-3809364262?refId=jqDph%2FqDEcFFlZJjuTf48w%3D%3D&trackingId=xK7aFmxcHtb8WvtgoN9pMw%3D%3D&position=2&pageNum=0&trk=public_jobs_jserp-result_search-card',\n",
       " 'https://in.linkedin.com/jobs/view/data-scientist-kochi-at-ripplesindia-group-3817311701?refId=jqDph%2FqDEcFFlZJjuTf48w%3D%3D&trackingId=w1T6R7uCnN63FVDycQBlmg%3D%3D&position=3&pageNum=0&trk=public_jobs_jserp-result_search-card',\n",
       " 'https://in.linkedin.com/jobs/view/data-scientist-at-flexi-analyst-3813607841?refId=jqDph%2FqDEcFFlZJjuTf48w%3D%3D&trackingId=Z0FJdmSJtZaom1AFiRN%2BQg%3D%3D&position=4&pageNum=0&trk=public_jobs_jserp-result_search-card',\n",
       " 'https://in.linkedin.com/jobs/view/data-scientist-at-joveo-3816735526?refId=jqDph%2FqDEcFFlZJjuTf48w%3D%3D&trackingId=%2FmBvV4LMZ9LWERMfhxdd5A%3D%3D&position=5&pageNum=0&trk=public_jobs_jserp-result_search-card']"
      ]
     },
     "execution_count": 8,
     "metadata": {},
     "output_type": "execute_result"
    }
   ],
   "source": [
    "links[:5]"
   ]
  },
  {
   "cell_type": "code",
   "execution_count": 9,
   "metadata": {},
   "outputs": [
    {
     "data": {
      "text/plain": [
       "'https://in.linkedin.com/jobs/view/data-science-at-hrness-ai-3818049337'"
      ]
     },
     "execution_count": 9,
     "metadata": {},
     "output_type": "execute_result"
    }
   ],
   "source": [
    "link = links[0]\n",
    "index = link.find(\"?\")\n",
    "link[:index]"
   ]
  },
  {
   "cell_type": "code",
   "execution_count": 10,
   "metadata": {},
   "outputs": [],
   "source": [
    "sliced_links = []"
   ]
  },
  {
   "cell_type": "code",
   "execution_count": 11,
   "metadata": {
    "scrolled": true,
    "tags": []
   },
   "outputs": [],
   "source": [
    "for i in links:\n",
    "    i = i[:i.find(\"?\")]\n",
    "    sliced_links.append(i)  "
   ]
  },
  {
   "cell_type": "code",
   "execution_count": 12,
   "metadata": {},
   "outputs": [
    {
     "data": {
      "text/plain": [
       "714"
      ]
     },
     "execution_count": 12,
     "metadata": {},
     "output_type": "execute_result"
    }
   ],
   "source": [
    "len(sliced_links)"
   ]
  },
  {
   "cell_type": "code",
   "execution_count": 13,
   "metadata": {},
   "outputs": [
    {
     "data": {
      "text/plain": [
       "['https://in.linkedin.com/jobs/view/data-science-at-hrness-ai-3818049337',\n",
       " 'https://in.linkedin.com/jobs/view/data-scientist-at-fusemachines-3809364262',\n",
       " 'https://in.linkedin.com/jobs/view/data-scientist-kochi-at-ripplesindia-group-3817311701',\n",
       " 'https://in.linkedin.com/jobs/view/data-scientist-at-flexi-analyst-3813607841',\n",
       " 'https://in.linkedin.com/jobs/view/data-scientist-at-joveo-3816735526']"
      ]
     },
     "execution_count": 13,
     "metadata": {},
     "output_type": "execute_result"
    }
   ],
   "source": [
    "sliced_links[:5]"
   ]
  },
  {
   "cell_type": "code",
   "execution_count": 14,
   "metadata": {
    "tags": []
   },
   "outputs": [],
   "source": [
    "company_details = {}"
   ]
  },
  {
   "cell_type": "code",
   "execution_count": 38,
   "metadata": {
    "tags": []
   },
   "outputs": [],
   "source": [
    "r1 = requests.get(sliced_links[0])"
   ]
  },
  {
   "cell_type": "code",
   "execution_count": 39,
   "metadata": {
    "scrolled": true,
    "tags": []
   },
   "outputs": [],
   "source": [
    "soup_r1 = BeautifulSoup(r1.content, \"html.parser\")"
   ]
  },
  {
   "cell_type": "code",
   "execution_count": 40,
   "metadata": {
    "tags": []
   },
   "outputs": [],
   "source": [
    "s2 = soup_r1.find('h1',attrs = {'class':'top-card-layout__title font-sans text-lg papabear:text-xl font-bold leading-open text-color-text mb-0 topcard__title'})"
   ]
  },
  {
   "cell_type": "code",
   "execution_count": 41,
   "metadata": {
    "tags": []
   },
   "outputs": [
    {
     "data": {
      "text/plain": [
       "<h1 class=\"top-card-layout__title font-sans text-lg papabear:text-xl font-bold leading-open text-color-text mb-0 topcard__title\">Data Science</h1>"
      ]
     },
     "execution_count": 41,
     "metadata": {},
     "output_type": "execute_result"
    }
   ],
   "source": [
    "s2"
   ]
  },
  {
   "cell_type": "code",
   "execution_count": 42,
   "metadata": {
    "tags": []
   },
   "outputs": [
    {
     "data": {
      "text/plain": [
       "'Data Science'"
      ]
     },
     "execution_count": 42,
     "metadata": {},
     "output_type": "execute_result"
    }
   ],
   "source": [
    "s2.text"
   ]
  },
  {
   "cell_type": "code",
   "execution_count": 43,
   "metadata": {
    "tags": []
   },
   "outputs": [],
   "source": [
    "s3 = soup_r1.find('a', attrs = {'class': 'topcard__org-name-link topcard__flavor--black-link', 'href':True})"
   ]
  },
  {
   "cell_type": "code",
   "execution_count": 44,
   "metadata": {
    "tags": []
   },
   "outputs": [
    {
     "data": {
      "text/plain": [
       "'https://in.linkedin.com/company/hrnessdcs?trk=public_jobs_topcard-org-name'"
      ]
     },
     "execution_count": 44,
     "metadata": {},
     "output_type": "execute_result"
    }
   ],
   "source": [
    "soup_r1.find('a', attrs = {'class': 'topcard__org-name-link topcard__flavor--black-link', 'href':True}).get('href')"
   ]
  },
  {
   "cell_type": "code",
   "execution_count": 45,
   "metadata": {
    "tags": []
   },
   "outputs": [
    {
     "data": {
      "text/plain": [
       "'https://in.linkedin.com/company/hrnessdcs?trk=public_jobs_topcard-org-name'"
      ]
     },
     "execution_count": 45,
     "metadata": {},
     "output_type": "execute_result"
    }
   ],
   "source": [
    "s3.get('href')"
   ]
  },
  {
   "cell_type": "code",
   "execution_count": 46,
   "metadata": {
    "tags": []
   },
   "outputs": [
    {
     "data": {
      "text/plain": [
       "'https://in.linkedin.com/company/hrnessdcs?trk=public_jobs_topcard-org-name'"
      ]
     },
     "execution_count": 46,
     "metadata": {},
     "output_type": "execute_result"
    }
   ],
   "source": [
    "s3 = s3.get('href')\n",
    "s3"
   ]
  },
  {
   "cell_type": "code",
   "execution_count": 24,
   "metadata": {
    "tags": []
   },
   "outputs": [],
   "source": [
    "s4 = soup_r1.find_all('span', attrs = {'class': 'description__job-criteria-text description__job-criteria-text--criteria'})"
   ]
  },
  {
   "cell_type": "code",
   "execution_count": 25,
   "metadata": {
    "tags": []
   },
   "outputs": [],
   "source": [
    "s4_list = []\n",
    "for span in s4:\n",
    "    s4_list.append(span.text.strip())"
   ]
  },
  {
   "cell_type": "code",
   "execution_count": 26,
   "metadata": {
    "tags": []
   },
   "outputs": [
    {
     "data": {
      "text/plain": [
       "['Entry level',\n",
       " 'Internship',\n",
       " 'Engineering and Information Technology',\n",
       " 'Software Development']"
      ]
     },
     "execution_count": 26,
     "metadata": {},
     "output_type": "execute_result"
    }
   ],
   "source": [
    "s4_list"
   ]
  },
  {
   "cell_type": "code",
   "execution_count": 27,
   "metadata": {
    "tags": []
   },
   "outputs": [],
   "source": [
    "s5 = soup_r1.find('div', attrs = {'class': 'show-more-less-html__markup show-more-less-html__markup--clamp-after-5 relative overflow-hidden'})"
   ]
  },
  {
   "cell_type": "code",
   "execution_count": 28,
   "metadata": {
    "tags": []
   },
   "outputs": [
    {
     "data": {
      "text/plain": [
       "<div class=\"show-more-less-html__markup show-more-less-html__markup--clamp-after-5 relative overflow-hidden\">\n",
       "        As a data science intern at Hrness.ai, you will have the opportunity to work on cutting-edge HR analytics projects and make a meaningful impact on our workforce intelligence solutions.<br/><br/><strong>Selected Intern's Day-to-day Responsibilities Include<br/><br/></strong>1 Creating frameworks for understanding and assessing the effectiveness of AI services being consumed by talent operations<br/><br/>2 Creating a directory of AI service providers for the entire Talent Lifecycle from hire to retire<br/><br/>3 Leveraging synthetic data generation to create sanitized data that can be used by Talent leaders to effectively test AI Services and create models\n",
       "      </div>"
      ]
     },
     "execution_count": 28,
     "metadata": {},
     "output_type": "execute_result"
    }
   ],
   "source": [
    "s5"
   ]
  },
  {
   "cell_type": "code",
   "execution_count": 29,
   "metadata": {
    "tags": []
   },
   "outputs": [
    {
     "name": "stdout",
     "output_type": "stream",
     "text": [
      "As a data science intern at Hrness.ai, you will have the opportunity to work on cutting-edge HR analytics projects and make a meaningful impact on our workforce intelligence solutions.\n",
      "\n",
      "\n",
      "Selected Intern's Day-to-day Responsibilities Include\n",
      "1 Creating frameworks for understanding and assessing the effectiveness of AI services being consumed by talent operations\n",
      "\n",
      "\n",
      "2 Creating a directory of AI service providers for the entire Talent Lifecycle from hire to retire\n",
      "\n",
      "\n",
      "3 Leveraging synthetic data generation to create sanitized data that can be used by Talent leaders to effectively test AI Services and create models\n"
     ]
    }
   ],
   "source": [
    "for strong in s5:\n",
    "    print(strong.text.strip())"
   ]
  },
  {
   "cell_type": "code",
   "execution_count": 30,
   "metadata": {},
   "outputs": [
    {
     "data": {
      "text/plain": [
       "'https://in.linkedin.com/company/hrnessdcs?trk=public_jobs_topcard-org-name'"
      ]
     },
     "execution_count": 30,
     "metadata": {},
     "output_type": "execute_result"
    }
   ],
   "source": [
    "s3"
   ]
  },
  {
   "cell_type": "code",
   "execution_count": 31,
   "metadata": {
    "tags": []
   },
   "outputs": [],
   "source": [
    "s3_sliced = s3[:s3.find('?')]"
   ]
  },
  {
   "cell_type": "code",
   "execution_count": 32,
   "metadata": {
    "tags": []
   },
   "outputs": [
    {
     "data": {
      "text/plain": [
       "'https://in.linkedin.com/company/hrnessdcs'"
      ]
     },
     "execution_count": 32,
     "metadata": {},
     "output_type": "execute_result"
    }
   ],
   "source": [
    "s3_sliced"
   ]
  },
  {
   "cell_type": "code",
   "execution_count": 33,
   "metadata": {
    "tags": []
   },
   "outputs": [],
   "source": [
    "s3_sliced = requests.get(s3)"
   ]
  },
  {
   "cell_type": "code",
   "execution_count": 34,
   "metadata": {
    "tags": []
   },
   "outputs": [
    {
     "data": {
      "text/plain": [
       "<Response [999]>"
      ]
     },
     "execution_count": 34,
     "metadata": {},
     "output_type": "execute_result"
    }
   ],
   "source": [
    "s3_sliced"
   ]
  },
  {
   "cell_type": "code",
   "execution_count": 48,
   "metadata": {
    "tags": []
   },
   "outputs": [],
   "source": [
    "soup_s3 = BeautifulSoup(s3_r.content, 'html.parser')"
   ]
  },
  {
   "cell_type": "code",
   "execution_count": 41,
   "metadata": {
    "tags": []
   },
   "outputs": [],
   "source": [
    "s6 = soup_s3.find('p', attrs = {'class': 'break-words whitespace-pre-wrap text-color-text'})"
   ]
  },
  {
   "cell_type": "code",
   "execution_count": 42,
   "metadata": {
    "tags": []
   },
   "outputs": [],
   "source": []
  }
 ],
 "metadata": {
  "kernelspec": {
   "display_name": "Python 3 (ipykernel)",
   "language": "python",
   "name": "python3"
  },
  "language_info": {
   "codemirror_mode": {
    "name": "ipython",
    "version": 3
   },
   "file_extension": ".py",
   "mimetype": "text/x-python",
   "name": "python",
   "nbconvert_exporter": "python",
   "pygments_lexer": "ipython3",
   "version": "3.9.18"
  },
  "toc-showmarkdowntxt": false
 },
 "nbformat": 4,
 "nbformat_minor": 4
}
